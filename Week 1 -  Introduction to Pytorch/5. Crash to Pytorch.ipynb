{
 "cells": [
  {
   "attachments": {},
   "cell_type": "markdown",
   "metadata": {},
   "source": [
    "# Library"
   ]
  },
  {
   "cell_type": "code",
   "execution_count": 1,
   "metadata": {},
   "outputs": [
    {
     "name": "stderr",
     "output_type": "stream",
     "text": [
      "c:\\Users\\hasan\\anaconda3\\envs\\Pytorch\\lib\\site-packages\\torchaudio\\backend\\utils.py:74: UserWarning: No audio backend is available.\n",
      "  warnings.warn(\"No audio backend is available.\")\n"
     ]
    }
   ],
   "source": [
    "import torch\n",
    "import torchvision\n",
    "from torchvision.datasets import FashionMNIST # torchvision for image datasets\n",
    "from torchtext.datasets import AmazonReviewFull # torchtext for text\n",
    "from torchaudio.datasets import SPEECHCOMMANDS #torchaudio for audio\n",
    "import numpy as np"
   ]
  },
  {
   "attachments": {},
   "cell_type": "markdown",
   "metadata": {},
   "source": [
    "# Tensor"
   ]
  },
  {
   "cell_type": "code",
   "execution_count": 2,
   "metadata": {},
   "outputs": [
    {
     "data": {
      "text/plain": [
       "tensor([[6, 9, 2],\n",
       "        [3, 3, 7],\n",
       "        [1, 0, 3]])"
      ]
     },
     "execution_count": 2,
     "metadata": {},
     "output_type": "execute_result"
    }
   ],
   "source": [
    "A = [[6, 9, 2],\n",
    "     [3, 3, 7],\n",
    "     [1, 0, 3]]\n",
    "     \n",
    "A_tensor = torch.tensor(A)\n",
    "A_tensor"
   ]
  },
  {
   "cell_type": "code",
   "execution_count": 3,
   "metadata": {},
   "outputs": [
    {
     "data": {
      "text/plain": [
       "tensor([0, 1, 2, 3], dtype=torch.int32)"
      ]
     },
     "execution_count": 3,
     "metadata": {},
     "output_type": "execute_result"
    }
   ],
   "source": [
    "B = np.array([0,1,2,3])\n",
    "B_tensor = torch.from_numpy(B)\n",
    "B_tensor"
   ]
  },
  {
   "cell_type": "code",
   "execution_count": 4,
   "metadata": {},
   "outputs": [
    {
     "data": {
      "text/plain": [
       "tensor([[0., 0., 0., 0.],\n",
       "        [0., 0., 0., 0.],\n",
       "        [0., 0., 0., 0.],\n",
       "        [0., 0., 0., 0.]])"
      ]
     },
     "execution_count": 4,
     "metadata": {},
     "output_type": "execute_result"
    }
   ],
   "source": [
    "# with no dtype argument, torch will infer the type\n",
    "C = torch.zeros(4,4) \n",
    "\n",
    "C"
   ]
  },
  {
   "cell_type": "code",
   "execution_count": 5,
   "metadata": {},
   "outputs": [
    {
     "data": {
      "text/plain": [
       "tensor([[[1, 1],\n",
       "         [1, 1],\n",
       "         [1, 1]],\n",
       "\n",
       "        [[1, 1],\n",
       "         [1, 1],\n",
       "         [1, 1]],\n",
       "\n",
       "        [[1, 1],\n",
       "         [1, 1],\n",
       "         [1, 1]]], dtype=torch.int32)"
      ]
     },
     "execution_count": 5,
     "metadata": {},
     "output_type": "execute_result"
    }
   ],
   "source": [
    "D = torch.ones(3,3,2, dtype=torch.int)\n",
    "\n",
    "D"
   ]
  },
  {
   "cell_type": "code",
   "execution_count": 6,
   "metadata": {},
   "outputs": [
    {
     "data": {
      "text/plain": [
       "tensor([[0, 0, 0],\n",
       "        [0, 0, 0],\n",
       "        [0, 0, 0]])"
      ]
     },
     "execution_count": 6,
     "metadata": {},
     "output_type": "execute_result"
    }
   ],
   "source": [
    "A_tensor_zeros = torch.zeros_like(A_tensor)\n",
    "\n",
    "A_tensor_zeros "
   ]
  },
  {
   "cell_type": "code",
   "execution_count": 7,
   "metadata": {},
   "outputs": [
    {
     "data": {
      "text/plain": [
       "tensor([[0.5402, 0.7299, 0.1359],\n",
       "        [0.7315, 0.0059, 0.1360],\n",
       "        [0.0044, 0.2612, 0.4128]])"
      ]
     },
     "execution_count": 7,
     "metadata": {},
     "output_type": "execute_result"
    }
   ],
   "source": [
    "# the dtype argument allows you to explicitly specify the datatype of the tensor\n",
    "A_tensor_rand = torch.rand_like(A_tensor, dtype=torch.float) \n",
    "\n",
    "A_tensor_rand"
   ]
  },
  {
   "cell_type": "code",
   "execution_count": 8,
   "metadata": {},
   "outputs": [
    {
     "data": {
      "text/plain": [
       "torch.float32"
      ]
     },
     "execution_count": 8,
     "metadata": {},
     "output_type": "execute_result"
    }
   ],
   "source": [
    "A_tensor_rand.dtype\n",
    "# torch.float32"
   ]
  },
  {
   "cell_type": "code",
   "execution_count": 9,
   "metadata": {},
   "outputs": [
    {
     "data": {
      "text/plain": [
       "torch.Size([3, 3])"
      ]
     },
     "execution_count": 9,
     "metadata": {},
     "output_type": "execute_result"
    }
   ],
   "source": [
    "A_tensor_rand.shape\n",
    "# torch.Size([3, 3])"
   ]
  },
  {
   "cell_type": "code",
   "execution_count": 10,
   "metadata": {},
   "outputs": [
    {
     "data": {
      "text/plain": [
       "device(type='cpu')"
      ]
     },
     "execution_count": 10,
     "metadata": {},
     "output_type": "execute_result"
    }
   ],
   "source": [
    "A_tensor_rand.device\n",
    "# device(type='cpu')"
   ]
  },
  {
   "attachments": {},
   "cell_type": "markdown",
   "metadata": {},
   "source": [
    "# Dataset"
   ]
  },
  {
   "cell_type": "code",
   "execution_count": 11,
   "metadata": {},
   "outputs": [
    {
     "name": "stdout",
     "output_type": "stream",
     "text": [
      "Downloading http://fashion-mnist.s3-website.eu-central-1.amazonaws.com/train-images-idx3-ubyte.gz\n",
      "Downloading http://fashion-mnist.s3-website.eu-central-1.amazonaws.com/train-images-idx3-ubyte.gz to D:\\Clone Repo\\Pytorch-Self-Paced\\Week 1 -  Introduction to Pytorch\\data\\FashionMNIST\\raw\\train-images-idx3-ubyte.gz\n"
     ]
    },
    {
     "name": "stderr",
     "output_type": "stream",
     "text": [
      "100%|██████████| 26421880/26421880 [00:17<00:00, 1527478.48it/s]\n"
     ]
    },
    {
     "name": "stdout",
     "output_type": "stream",
     "text": [
      "Extracting D:\\Clone Repo\\Pytorch-Self-Paced\\Week 1 -  Introduction to Pytorch\\data\\FashionMNIST\\raw\\train-images-idx3-ubyte.gz to D:\\Clone Repo\\Pytorch-Self-Paced\\Week 1 -  Introduction to Pytorch\\data\\FashionMNIST\\raw\n",
      "\n",
      "Downloading http://fashion-mnist.s3-website.eu-central-1.amazonaws.com/train-labels-idx1-ubyte.gz\n",
      "Downloading http://fashion-mnist.s3-website.eu-central-1.amazonaws.com/train-labels-idx1-ubyte.gz to D:\\Clone Repo\\Pytorch-Self-Paced\\Week 1 -  Introduction to Pytorch\\data\\FashionMNIST\\raw\\train-labels-idx1-ubyte.gz\n"
     ]
    },
    {
     "name": "stderr",
     "output_type": "stream",
     "text": [
      "100%|██████████| 29515/29515 [00:00<00:00, 112803.43it/s]\n"
     ]
    },
    {
     "name": "stdout",
     "output_type": "stream",
     "text": [
      "Extracting D:\\Clone Repo\\Pytorch-Self-Paced\\Week 1 -  Introduction to Pytorch\\data\\FashionMNIST\\raw\\train-labels-idx1-ubyte.gz to D:\\Clone Repo\\Pytorch-Self-Paced\\Week 1 -  Introduction to Pytorch\\data\\FashionMNIST\\raw\n",
      "\n",
      "Downloading http://fashion-mnist.s3-website.eu-central-1.amazonaws.com/t10k-images-idx3-ubyte.gz\n",
      "Downloading http://fashion-mnist.s3-website.eu-central-1.amazonaws.com/t10k-images-idx3-ubyte.gz to D:\\Clone Repo\\Pytorch-Self-Paced\\Week 1 -  Introduction to Pytorch\\data\\FashionMNIST\\raw\\t10k-images-idx3-ubyte.gz\n"
     ]
    },
    {
     "name": "stderr",
     "output_type": "stream",
     "text": [
      "100%|██████████| 4422102/4422102 [00:03<00:00, 1263992.93it/s]\n"
     ]
    },
    {
     "name": "stdout",
     "output_type": "stream",
     "text": [
      "Extracting D:\\Clone Repo\\Pytorch-Self-Paced\\Week 1 -  Introduction to Pytorch\\data\\FashionMNIST\\raw\\t10k-images-idx3-ubyte.gz to D:\\Clone Repo\\Pytorch-Self-Paced\\Week 1 -  Introduction to Pytorch\\data\\FashionMNIST\\raw\n",
      "\n",
      "Downloading http://fashion-mnist.s3-website.eu-central-1.amazonaws.com/t10k-labels-idx1-ubyte.gz\n",
      "Downloading http://fashion-mnist.s3-website.eu-central-1.amazonaws.com/t10k-labels-idx1-ubyte.gz to D:\\Clone Repo\\Pytorch-Self-Paced\\Week 1 -  Introduction to Pytorch\\data\\FashionMNIST\\raw\\t10k-labels-idx1-ubyte.gz\n"
     ]
    },
    {
     "name": "stderr",
     "output_type": "stream",
     "text": [
      "100%|██████████| 5148/5148 [00:00<00:00, 5184220.17it/s]"
     ]
    },
    {
     "name": "stdout",
     "output_type": "stream",
     "text": [
      "Extracting D:\\Clone Repo\\Pytorch-Self-Paced\\Week 1 -  Introduction to Pytorch\\data\\FashionMNIST\\raw\\t10k-labels-idx1-ubyte.gz to D:\\Clone Repo\\Pytorch-Self-Paced\\Week 1 -  Introduction to Pytorch\\data\\FashionMNIST\\raw\n",
      "\n"
     ]
    },
    {
     "name": "stderr",
     "output_type": "stream",
     "text": [
      "\n"
     ]
    }
   ],
   "source": [
    "training_data = FashionMNIST(\n",
    "    # the directory you want to store the dataset, can be a string e.g. \"data\"\n",
    "    root = 'D:\\Clone Repo\\Pytorch-Self-Paced\\Week 1 -  Introduction to Pytorch\\data', \n",
    "    # if set to False, will give you the test set instead\n",
    "    train = True, \n",
    "    # download the dataset if it's not already available in the root path you specified\n",
    "    download = True, \n",
    "    # as the name implies, will transform images to tensor data structures so PyTorch can use them for training\n",
    "    transform = torchvision.transforms.ToTensor() \n",
    ")"
   ]
  },
  {
   "cell_type": "code",
   "execution_count": 12,
   "metadata": {},
   "outputs": [
    {
     "data": {
      "text/plain": [
       "['T-shirt/top',\n",
       " 'Trouser',\n",
       " 'Pullover',\n",
       " 'Dress',\n",
       " 'Coat',\n",
       " 'Sandal',\n",
       " 'Shirt',\n",
       " 'Sneaker',\n",
       " 'Bag',\n",
       " 'Ankle boot']"
      ]
     },
     "execution_count": 12,
     "metadata": {},
     "output_type": "execute_result"
    }
   ],
   "source": [
    "training_data.classes\n",
    "# ['T-shirt/top',\n",
    "# 'Trouser',\n",
    "# 'Pullover',\n",
    "# 'Dress',\n",
    "# 'Coat',\n",
    "# 'Sandal',\n",
    "# 'Shirt',\n",
    "# 'Sneaker',\n",
    "# 'Bag',\n",
    "# 'Ankle boot']"
   ]
  },
  {
   "cell_type": "code",
   "execution_count": 13,
   "metadata": {},
   "outputs": [
    {
     "data": {
      "text/plain": [
       "{'T-shirt/top': 0,\n",
       " 'Trouser': 1,\n",
       " 'Pullover': 2,\n",
       " 'Dress': 3,\n",
       " 'Coat': 4,\n",
       " 'Sandal': 5,\n",
       " 'Shirt': 6,\n",
       " 'Sneaker': 7,\n",
       " 'Bag': 8,\n",
       " 'Ankle boot': 9}"
      ]
     },
     "execution_count": 13,
     "metadata": {},
     "output_type": "execute_result"
    }
   ],
   "source": [
    "training_data.class_to_idx # get the corresponding index with each class\n",
    "# {'Ankle boot': 9,\n",
    "# 'Bag': 8,\n",
    "# 'Coat': 4,\n",
    "# 'Dress': 3,\n",
    "# 'Pullover': 2,\n",
    "# 'Sandal': 5,\n",
    "# 'Shirt': 6,\n",
    "# 'Sneaker': 7,\n",
    "# 'T-shirt/top': 0,\n",
    "# 'Trouser': 1}"
   ]
  },
  {
   "attachments": {},
   "cell_type": "markdown",
   "metadata": {},
   "source": [
    "# CIFAR10"
   ]
  },
  {
   "cell_type": "code",
   "execution_count": 14,
   "metadata": {},
   "outputs": [],
   "source": [
    "import torch\n",
    "from torch import nn\n",
    "from torch.utils.data import DataLoader\n",
    "from torchvision.utils import make_grid\n",
    "from torchvision.datasets import CIFAR10\n",
    "from torchvision.transforms import ToTensor\n",
    "from torchvision.transforms import Normalize, Compose\n",
    "import os\n",
    "import matplotlib.pyplot as plt\n",
    "import numpy as np"
   ]
  },
  {
   "attachments": {},
   "cell_type": "markdown",
   "metadata": {},
   "source": [
    "## Loading the dataset"
   ]
  },
  {
   "cell_type": "code",
   "execution_count": 15,
   "metadata": {},
   "outputs": [],
   "source": [
    "transform = Compose(\n",
    "    [ToTensor(),\n",
    "     Normalize((0.5, 0.5, 0.5),  # mean\n",
    "               (0.5, 0.5, 0.5))] # std. deviation\n",
    ")"
   ]
  },
  {
   "cell_type": "code",
   "execution_count": 16,
   "metadata": {},
   "outputs": [
    {
     "name": "stdout",
     "output_type": "stream",
     "text": [
      "Downloading https://www.cs.toronto.edu/~kriz/cifar-10-python.tar.gz to cifar\\cifar-10-python.tar.gz\n"
     ]
    },
    {
     "name": "stderr",
     "output_type": "stream",
     "text": [
      "100%|██████████| 170498071/170498071 [01:40<00:00, 1695966.64it/s]\n"
     ]
    },
    {
     "name": "stdout",
     "output_type": "stream",
     "text": [
      "Extracting cifar\\cifar-10-python.tar.gz to cifar\n",
      "Files already downloaded and verified\n"
     ]
    }
   ],
   "source": [
    "training_data = CIFAR10(root=\"cifar\",\n",
    "                        train = True, # train set, 50k images\n",
    "                        download = True,\n",
    "                        transform=transform)\n",
    "test_data = CIFAR10(root = \"cifar\",\n",
    "                    train = False, # test set, 10k images\n",
    "                    download = True,\n",
    "                    transform = transform)"
   ]
  },
  {
   "cell_type": "code",
   "execution_count": 17,
   "metadata": {},
   "outputs": [],
   "source": [
    "batch_size = 4\n",
    "train_dataloader = DataLoader(training_data, \n",
    "                              batch_size=batch_size, \n",
    "                              shuffle=True)\n",
    "test_dataloader = DataLoader(test_data, \n",
    "                             batch_size=batch_size, \n",
    "                             shuffle=True)"
   ]
  },
  {
   "cell_type": "code",
   "execution_count": 18,
   "metadata": {},
   "outputs": [
    {
     "name": "stdout",
     "output_type": "stream",
     "text": [
      "Shape of X [N, C, H, W]: torch.Size([4, 3, 32, 32])\n",
      "Shape of y: torch.Size([4]) torch.int64\n"
     ]
    }
   ],
   "source": [
    "for X, y in train_dataloader:\n",
    "  print(f\"Shape of X [N, C, H, W]: {X.shape}\")\n",
    "  print(f\"Shape of y: {y.shape} {y.dtype}\")\n",
    "  break\n",
    "# Shape of X [N, C, H, W]: torch.Size([4, 3, 32, 32])\n",
    "# Shape of y: torch.Size([4]) torch.int64"
   ]
  },
  {
   "cell_type": "code",
   "execution_count": 19,
   "metadata": {},
   "outputs": [
    {
     "data": {
      "text/plain": [
       "['airplane',\n",
       " 'automobile',\n",
       " 'bird',\n",
       " 'cat',\n",
       " 'deer',\n",
       " 'dog',\n",
       " 'frog',\n",
       " 'horse',\n",
       " 'ship',\n",
       " 'truck']"
      ]
     },
     "execution_count": 19,
     "metadata": {},
     "output_type": "execute_result"
    }
   ],
   "source": [
    "def imshow(img):\n",
    "  img = img / 2 + .05 # revert normalization for viewing\n",
    "  npimg = img.numpy()\n",
    "  plt.imshow(np.transpose(npimg, (1,2,0)))\n",
    "  plt.show()\n",
    "  \n",
    "classes = training_data.classes\n",
    "training_data.classes"
   ]
  },
  {
   "attachments": {},
   "cell_type": "markdown",
   "metadata": {},
   "source": [
    "## Defining the Base Model"
   ]
  },
  {
   "cell_type": "code",
   "execution_count": 22,
   "metadata": {},
   "outputs": [
    {
     "name": "stdout",
     "output_type": "stream",
     "text": [
      "Device: cuda\n"
     ]
    }
   ],
   "source": [
    "device = \"cuda\" if torch.cuda.is_available() else \"cpu\"\n",
    "print(f\"Device: {device}\")"
   ]
  },
  {
   "cell_type": "code",
   "execution_count": 23,
   "metadata": {},
   "outputs": [
    {
     "name": "stdout",
     "output_type": "stream",
     "text": [
      "NeuralNetwork(\n",
      "  (flatten): Flatten(start_dim=1, end_dim=-1)\n",
      "  (linear_relu_stack): Sequential(\n",
      "    (0): Linear(in_features=3072, out_features=1024, bias=True)\n",
      "    (1): ReLU()\n",
      "    (2): Linear(in_features=1024, out_features=512, bias=True)\n",
      "    (3): ReLU()\n",
      "    (4): Linear(in_features=512, out_features=10, bias=True)\n",
      "  )\n",
      ")\n"
     ]
    }
   ],
   "source": [
    "class NeuralNetwork(nn.Module):\n",
    "    def __init__(self):\n",
    "        super(NeuralNetwork, self).__init__()\n",
    "        self.flatten = nn.Flatten()\n",
    "        self.linear_relu_stack = nn.Sequential(\n",
    "            nn.Linear(32*32*3, 1024),\n",
    "            nn.ReLU(),\n",
    "            nn.Linear(1024, 512),\n",
    "            nn.ReLU(),\n",
    "            nn.Linear(512, 10)\n",
    "        )\n",
    "    def forward(self, x):\n",
    "        x = self.flatten(x)\n",
    "        logits = self.linear_relu_stack(x)\n",
    "        return logits\n",
    "        \n",
    "model = NeuralNetwork().to(device)\n",
    "\n",
    "print(model)"
   ]
  },
  {
   "attachments": {},
   "cell_type": "markdown",
   "metadata": {},
   "source": [
    "## Loss function and Optimizer"
   ]
  },
  {
   "cell_type": "code",
   "execution_count": 24,
   "metadata": {},
   "outputs": [],
   "source": [
    "loss_fn = nn.CrossEntropyLoss()\n",
    "optimizer = torch.optim.SGD( model.parameters(), lr=0.001 ) # momentum=0.9"
   ]
  },
  {
   "attachments": {},
   "cell_type": "markdown",
   "metadata": {},
   "source": [
    "## Defining the Training Loop and Backpropagation and Training Progress Output"
   ]
  },
  {
   "cell_type": "code",
   "execution_count": 25,
   "metadata": {},
   "outputs": [],
   "source": [
    "def train(dataloader, model, loss_fn, optimizer):\n",
    "    size = len(dataloader.dataset)\n",
    "    model.train()\n",
    "    for batch, (X, y) in enumerate(dataloader):\n",
    "        X, y = X.to(device), y.to(device)\n",
    "        # Compute prediction error\n",
    "        pred = model(X)\n",
    "        loss = loss_fn(pred, y)\n",
    "        # Backpropagation\n",
    "        optimizer.zero_grad()\n",
    "        loss.backward()\n",
    "        optimizer.step()\n",
    "        if batch % 2000 == 0:\n",
    "            loss, current = loss.item(), batch * len(X)\n",
    "            print(f\"loss: {loss:>7f}  [{current:>5d}/{size:>5d}]\")"
   ]
  },
  {
   "attachments": {},
   "cell_type": "markdown",
   "metadata": {},
   "source": [
    "## Defining the Testing Method "
   ]
  },
  {
   "cell_type": "code",
   "execution_count": 26,
   "metadata": {},
   "outputs": [],
   "source": [
    "def test(dataloader, model, loss_fn):\n",
    "    size = len(dataloader.dataset)\n",
    "    num_batches = len(dataloader)\n",
    "    model.eval()\n",
    "    test_loss, correct = 0, 0\n",
    "    with torch.no_grad():\n",
    "        for X, y in dataloader:\n",
    "            X, y = X.to(device), y.to(device)\n",
    "            pred = model(X)\n",
    "            test_loss += loss_fn(pred, y).item()\n",
    "            correct += (pred.argmax(1) == y).type(torch.float).sum().item()\n",
    "    test_loss /= num_batches\n",
    "    correct /= size\n",
    "    print(f\"Test Error: \\n Accuracy: {(100*correct):>0.1f}%, Avg loss: {test_loss:>8f} \\n\")"
   ]
  },
  {
   "attachments": {},
   "cell_type": "markdown",
   "metadata": {},
   "source": [
    "## Training Model"
   ]
  },
  {
   "cell_type": "code",
   "execution_count": 27,
   "metadata": {},
   "outputs": [
    {
     "name": "stdout",
     "output_type": "stream",
     "text": [
      "Epoch 1\n",
      "-------------------------------\n",
      "loss: 2.304004  [    0/50000]\n",
      "loss: 2.182862  [ 8000/50000]\n",
      "loss: 2.140388  [16000/50000]\n",
      "loss: 1.477777  [24000/50000]\n",
      "loss: 1.145723  [32000/50000]\n",
      "loss: 1.666813  [40000/50000]\n",
      "loss: 1.740497  [48000/50000]\n",
      "Test Error: \n",
      " Accuracy: 39.4%, Avg loss: 1.713888 \n",
      "\n",
      "Epoch 2\n",
      "-------------------------------\n",
      "loss: 2.469156  [    0/50000]\n",
      "loss: 1.433014  [ 8000/50000]\n",
      "loss: 1.353728  [16000/50000]\n",
      "loss: 1.653767  [24000/50000]\n",
      "loss: 0.909968  [32000/50000]\n",
      "loss: 0.884430  [40000/50000]\n",
      "loss: 1.382427  [48000/50000]\n",
      "Test Error: \n",
      " Accuracy: 44.7%, Avg loss: 1.569790 \n",
      "\n",
      "Epoch 3\n",
      "-------------------------------\n",
      "loss: 0.937054  [    0/50000]\n",
      "loss: 1.689824  [ 8000/50000]\n",
      "loss: 1.197342  [16000/50000]\n",
      "loss: 1.910531  [24000/50000]\n",
      "loss: 0.516422  [32000/50000]\n",
      "loss: 1.482382  [40000/50000]\n",
      "loss: 1.931607  [48000/50000]\n",
      "Test Error: \n",
      " Accuracy: 47.7%, Avg loss: 1.489985 \n",
      "\n",
      "Epoch 4\n",
      "-------------------------------\n",
      "loss: 1.372599  [    0/50000]\n",
      "loss: 1.033860  [ 8000/50000]\n",
      "loss: 1.011976  [16000/50000]\n",
      "loss: 1.699226  [24000/50000]\n",
      "loss: 0.857436  [32000/50000]\n",
      "loss: 2.040835  [40000/50000]\n",
      "loss: 1.736991  [48000/50000]\n",
      "Test Error: \n",
      " Accuracy: 49.9%, Avg loss: 1.434511 \n",
      "\n",
      "Epoch 5\n",
      "-------------------------------\n",
      "loss: 1.037003  [    0/50000]\n",
      "loss: 0.995876  [ 8000/50000]\n",
      "loss: 1.467604  [16000/50000]\n",
      "loss: 1.055991  [24000/50000]\n",
      "loss: 2.637611  [32000/50000]\n",
      "loss: 1.119462  [40000/50000]\n",
      "loss: 1.813397  [48000/50000]\n",
      "Test Error: \n",
      " Accuracy: 51.1%, Avg loss: 1.395157 \n",
      "\n",
      "Epoch 6\n",
      "-------------------------------\n",
      "loss: 1.451505  [    0/50000]\n",
      "loss: 1.107734  [ 8000/50000]\n",
      "loss: 0.927321  [16000/50000]\n",
      "loss: 1.022365  [24000/50000]\n",
      "loss: 1.097050  [32000/50000]\n",
      "loss: 1.642233  [40000/50000]\n",
      "loss: 1.280314  [48000/50000]\n",
      "Test Error: \n",
      " Accuracy: 52.0%, Avg loss: 1.365713 \n",
      "\n",
      "Epoch 7\n",
      "-------------------------------\n",
      "loss: 1.081075  [    0/50000]\n",
      "loss: 0.817776  [ 8000/50000]\n",
      "loss: 2.489476  [16000/50000]\n",
      "loss: 0.767196  [24000/50000]\n",
      "loss: 1.142725  [32000/50000]\n",
      "loss: 1.748176  [40000/50000]\n",
      "loss: 1.243909  [48000/50000]\n",
      "Test Error: \n",
      " Accuracy: 53.1%, Avg loss: 1.338418 \n",
      "\n",
      "Epoch 8\n",
      "-------------------------------\n",
      "loss: 1.144782  [    0/50000]\n",
      "loss: 0.630855  [ 8000/50000]\n",
      "loss: 2.238699  [16000/50000]\n",
      "loss: 1.158088  [24000/50000]\n",
      "loss: 2.348754  [32000/50000]\n",
      "loss: 1.464234  [40000/50000]\n",
      "loss: 0.871158  [48000/50000]\n",
      "Test Error: \n",
      " Accuracy: 53.4%, Avg loss: 1.321318 \n",
      "\n",
      "Epoch 9\n",
      "-------------------------------\n",
      "loss: 1.000362  [    0/50000]\n",
      "loss: 0.999226  [ 8000/50000]\n",
      "loss: 1.306284  [16000/50000]\n",
      "loss: 1.276493  [24000/50000]\n",
      "loss: 1.408568  [32000/50000]\n",
      "loss: 0.594206  [40000/50000]\n",
      "loss: 1.136754  [48000/50000]\n",
      "Test Error: \n",
      " Accuracy: 53.5%, Avg loss: 1.321107 \n",
      "\n",
      "Epoch 10\n",
      "-------------------------------\n",
      "loss: 1.102684  [    0/50000]\n",
      "loss: 0.533519  [ 8000/50000]\n",
      "loss: 2.074370  [16000/50000]\n",
      "loss: 0.371468  [24000/50000]\n",
      "loss: 1.153318  [32000/50000]\n",
      "loss: 1.091882  [40000/50000]\n",
      "loss: 0.763466  [48000/50000]\n",
      "Test Error: \n",
      " Accuracy: 54.6%, Avg loss: 1.295089 \n",
      "\n",
      "Done!\n"
     ]
    }
   ],
   "source": [
    "epochs = 10\n",
    "for t in range(epochs):\n",
    "    print(f\"Epoch {t+1}\\n-------------------------------\")\n",
    "    train(train_dataloader, model, loss_fn, optimizer)\n",
    "    test(test_dataloader, model, loss_fn)\n",
    "print(\"Done!\")"
   ]
  },
  {
   "attachments": {},
   "cell_type": "markdown",
   "metadata": {},
   "source": [
    "## Saving and Loading a Model"
   ]
  },
  {
   "cell_type": "code",
   "execution_count": 28,
   "metadata": {},
   "outputs": [],
   "source": [
    "torch.save(model.state_dict(), \"cifar_fc.pth\")"
   ]
  },
  {
   "cell_type": "code",
   "execution_count": 29,
   "metadata": {},
   "outputs": [
    {
     "data": {
      "text/plain": [
       "<All keys matched successfully>"
      ]
     },
     "execution_count": 29,
     "metadata": {},
     "output_type": "execute_result"
    }
   ],
   "source": [
    "model = NeuralNetwork()\n",
    "model.load_state_dict(torch.load(\"cifar_fc.pth\"))"
   ]
  },
  {
   "attachments": {},
   "cell_type": "markdown",
   "metadata": {},
   "source": [
    "## Evaluating the Model"
   ]
  },
  {
   "cell_type": "code",
   "execution_count": 31,
   "metadata": {},
   "outputs": [
    {
     "name": "stderr",
     "output_type": "stream",
     "text": [
      "Clipping input data to the valid range for imshow with RGB data ([0..1] for floats or [0..255] for integers).\n"
     ]
    },
    {
     "data": {
      "image/png": "[encoded data removed]",
      "text/plain": [
       "<Figure size 640x480 with 1 Axes>"
      ]
     },
     "metadata": {},
     "output_type": "display_data"
    },
    {
     "name": "stdout",
     "output_type": "stream",
     "text": [
      "Ground Truth:  dog   dog   dog   automobile\n"
     ]
    }
   ],
   "source": [
    "dataiter = iter(test_dataloader)\n",
    "images, labels = next(dataiter)\n",
    "\n",
    "imshow(make_grid(images))\n",
    "print('Ground Truth: ', ' '.join(f'{classes[labels[j]]:5s}' for j in range(4)))"
   ]
  },
  {
   "cell_type": "code",
   "execution_count": 32,
   "metadata": {},
   "outputs": [
    {
     "name": "stdout",
     "output_type": "stream",
     "text": [
      "Predicted:  dog   airplane airplane automobile\n"
     ]
    }
   ],
   "source": [
    "outputs = model(images)\n",
    "_, predicted = torch.max(outputs, 1)\n",
    "\n",
    "print('Predicted: ', ' '.join(f'{classes[predicted[j]]:5s}' for j in range(4)))\n",
    "# Predicted:  dog   ship  automobile deer"
   ]
  },
  {
   "cell_type": "code",
   "execution_count": 33,
   "metadata": {},
   "outputs": [
    {
     "name": "stdout",
     "output_type": "stream",
     "text": [
      "Model accuracy: 54 %\n"
     ]
    }
   ],
   "source": [
    "correct = 0\n",
    "total = 0\n",
    "\n",
    "with torch.no_grad():\n",
    "   for data in test_dataloader:\n",
    "     images, labels = data\n",
    "     outputs = model(images)\n",
    "     _, predicted = torch.max(outputs.data, 1)\n",
    "     total += labels.size(0)\n",
    "     correct += (predicted == labels).sum().item()\n",
    "     \n",
    "print(f'Model accuracy: {100 * correct // total} %')"
   ]
  },
  {
   "attachments": {},
   "cell_type": "markdown",
   "metadata": {},
   "source": [
    "## classifying each class"
   ]
  },
  {
   "cell_type": "code",
   "execution_count": 34,
   "metadata": {},
   "outputs": [
    {
     "name": "stdout",
     "output_type": "stream",
     "text": [
      "Accuracy for class airplane: 63.0%\n",
      "Accuracy for class automobile: 67.7%\n",
      "Accuracy for class bird : 48.3%\n",
      "Accuracy for class cat  : 32.7%\n",
      "Accuracy for class deer : 48.4%\n",
      "Accuracy for class dog  : 42.7%\n",
      "Accuracy for class frog : 57.7%\n",
      "Accuracy for class horse: 60.3%\n",
      "Accuracy for class ship : 67.1%\n",
      "Accuracy for class truck: 58.6%\n"
     ]
    }
   ],
   "source": [
    "correct_pred = {classname: 0 for classname in classes}\n",
    "total_pred = {classname: 0  for classname in classes}\n",
    "\n",
    "with torch.no_grad():\n",
    "  for data in test_dataloader:\n",
    "    images, labels = data\n",
    "    outputs = model(images)\n",
    "    _, predictions = torch.max(outputs, 1)\n",
    "    for label,prediction in zip(labels, predictions):\n",
    "      if label == prediction:\n",
    "        correct_pred[classes[label]] += 1\n",
    "      total_pred[classes[label]] += 1\n",
    "\n",
    "for classname, correct_count in correct_pred.items():\n",
    "  accuracy = 100 * float(correct_count) / total_pred[classname]\n",
    "  print(f'Accuracy for class {classname:5s}: {accuracy:.1f}%')"
   ]
  }
 ],
 "metadata": {
  "kernelspec": {
   "display_name": "Pytorch",
   "language": "python",
   "name": "python3"
  },
  "language_info": {
   "codemirror_mode": {
    "name": "ipython",
    "version": 3
   },
   "file_extension": ".py",
   "mimetype": "text/x-python",
   "name": "python",
   "nbconvert_exporter": "python",
   "pygments_lexer": "ipython3",
   "version": "3.10.11"
  },
  "orig_nbformat": 4
 },
 "nbformat": 4,
 "nbformat_minor": 2
}
